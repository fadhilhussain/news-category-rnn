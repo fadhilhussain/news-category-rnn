{
 "cells": [
  {
   "cell_type": "code",
   "execution_count": 53,
   "id": "9d0eaaeb",
   "metadata": {},
   "outputs": [],
   "source": [
    "import re\n",
    "import numpy as np\n",
    "import pickle\n",
    "import tensorflow as tf\n",
    "from tensorflow.keras.preprocessing.sequence import pad_sequences\n",
    "from tensorflow.keras.models import load_model"
   ]
  },
  {
   "cell_type": "code",
   "execution_count": 11,
   "id": "b6f557ea",
   "metadata": {},
   "outputs": [
    {
     "name": "stderr",
     "output_type": "stream",
     "text": [
      "2025-06-04 23:25:01.786124: E external/local_xla/xla/stream_executor/cuda/cuda_platform.cc:51] failed call to cuInit: INTERNAL: CUDA error: Failed call to cuInit: UNKNOWN ERROR (303)\n",
      "WARNING:absl:Compiled the loaded model, but the compiled metrics have yet to be built. `model.compile_metrics` will be empty until you train or evaluate the model.\n"
     ]
    }
   ],
   "source": [
    "model = load_model('../models/news_lstm.h5')"
   ]
  },
  {
   "cell_type": "code",
   "execution_count": 40,
   "id": "51b717f4",
   "metadata": {},
   "outputs": [],
   "source": [
    "with open('../models/tokenizer.pkl','rb') as file:\n",
    "    tokenizer = pickle.load(file)\n",
    "\n",
    "\n",
    "with open('../models/label.pkl','rb') as file:\n",
    "    labels_categ = pickle.load(file)"
   ]
  },
  {
   "cell_type": "code",
   "execution_count": 77,
   "id": "9f1572a2",
   "metadata": {},
   "outputs": [
    {
     "data": {
      "text/plain": [
       "array(['BUSINESS', 'ENTERTAINMENT', 'FOOD & DRINK', 'HEALTHY LIVING',\n",
       "       'PARENTING', 'POLITICS', 'QUEER VOICES', 'STYLE & BEAUTY',\n",
       "       'TRAVEL', 'WELLNESS'], dtype=object)"
      ]
     },
     "execution_count": 77,
     "metadata": {},
     "output_type": "execute_result"
    }
   ],
   "source": [
    "labels_categ.classes_"
   ]
  },
  {
   "cell_type": "code",
   "execution_count": 46,
   "id": "70fd651a",
   "metadata": {},
   "outputs": [
    {
     "data": {
      "text/plain": [
       "'PARENTING'"
      ]
     },
     "execution_count": 46,
     "metadata": {},
     "output_type": "execute_result"
    }
   ],
   "source": [
    "labels_categ.inverse_transform([4])[0]"
   ]
  },
  {
   "cell_type": "code",
   "execution_count": 48,
   "id": "d74f9d2b",
   "metadata": {},
   "outputs": [],
   "source": [
    "## clean the text \n",
    "def clean_data(text):\n",
    "    text = text.lower()\n",
    "    text = re.sub('[^a-zA-Z]',' ',text)\n",
    "    return text"
   ]
  },
  {
   "cell_type": "code",
   "execution_count": 74,
   "id": "62f09371",
   "metadata": {},
   "outputs": [],
   "source": [
    "## function to predict the category \n",
    "def predict_news_categ(model,tokenizer,text,sequence_length):\n",
    "    token_list = tokenizer.texts_to_sequences([text])[0]\n",
    "    token_list = pad_sequences([token_list],maxlen=sequence_length,padding='post',truncating='pre')\n",
    "    predicted = model.predict(token_list,verbose=0)\n",
    "    predicted_categ = np.argmax(predicted,axis=1)[0]\n",
    "    predicted_label = labels_categ.inverse_transform([predicted_categ])[0]\n",
    "    return predicted_label\n"
   ]
  },
  {
   "cell_type": "code",
   "execution_count": null,
   "id": "e758c2d7",
   "metadata": {},
   "outputs": [
    {
     "name": "stdout",
     "output_type": "stream",
     "text": [
      "POLITICS\n"
     ]
    }
   ],
   "source": [
    "text = 'Indian prime minister is very bad'\n",
    "text = clean_data(text)\n",
    "max_length_of_sequence = model.input_shape[1]\n",
    "prediction = predict_news_categ(model,tokenizer,text,max_length_of_sequence)\n",
    "print(prediction)"
   ]
  },
  {
   "cell_type": "code",
   "execution_count": null,
   "id": "e929d5a0",
   "metadata": {},
   "outputs": [],
   "source": []
  }
 ],
 "metadata": {
  "kernelspec": {
   "display_name": "base",
   "language": "python",
   "name": "python3"
  },
  "language_info": {
   "codemirror_mode": {
    "name": "ipython",
    "version": 3
   },
   "file_extension": ".py",
   "mimetype": "text/x-python",
   "name": "python",
   "nbconvert_exporter": "python",
   "pygments_lexer": "ipython3",
   "version": "3.12.2"
  }
 },
 "nbformat": 4,
 "nbformat_minor": 5
}
